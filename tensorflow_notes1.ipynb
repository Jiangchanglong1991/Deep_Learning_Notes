{
 "cells": [
  {
   "cell_type": "code",
   "execution_count": 9,
   "metadata": {},
   "outputs": [],
   "source": [
    "# import libs\n",
    "import numpy as np\n",
    "import tensorflow as tf"
   ]
  },
  {
   "cell_type": "code",
   "execution_count": 10,
   "metadata": {},
   "outputs": [
    {
     "name": "stdout",
     "output_type": "stream",
     "text": [
      "Extracting MNIST_data/train-images-idx3-ubyte.gz\n",
      "Extracting MNIST_data/train-labels-idx1-ubyte.gz\n",
      "Extracting MNIST_data/t10k-images-idx3-ubyte.gz\n",
      "Extracting MNIST_data/t10k-labels-idx1-ubyte.gz\n"
     ]
    }
   ],
   "source": [
    "# load some data\n",
    "from tensorflow.examples.tutorials.mnist import input_data\n",
    "mnist = input_data.read_data_sets(\"MNIST_data/\", one_hot=True)"
   ]
  },
  {
   "cell_type": "markdown",
   "metadata": {},
   "source": [
    "# 1. Tensorflow 基本概念\n",
    "- 使用图(graph)来表示计算任务\n",
    "- 在被称为会话(Session)的上下文(Context)中执行图\n",
    "- 使用tensor表示数据\n",
    "- 通过变量(Variable)维护状态\n",
    "- 使用feed和fetch可以为任意的操作赋值或者从中获取数据\n",
    "\n",
    "Tensorflow是一个编程系统，使用图来表示计算任务，图中的节点称之为op(operation)，一个op获得0个或多个tensor，执行计算，产生0个或者多个tensor。tensor看作是一个n维的数组或列表。图必须在会话里面启动。\n",
    "\n",
    "### 1.1 创建和启动图。"
   ]
  },
  {
   "cell_type": "code",
   "execution_count": 9,
   "metadata": {},
   "outputs": [
    {
     "name": "stdout",
     "output_type": "stream",
     "text": [
      "Tensor(\"MatMul_1:0\", shape=(1, 1), dtype=int32)\n"
     ]
    }
   ],
   "source": [
    "# 创建一个常量op\n",
    "m1 = tf.constant([[3,3]])\n",
    "m2 = tf.constant([[2],[3]])\n",
    "# 创建矩阵乘法op\n",
    "product = tf.matmul(m1,m2)\n",
    "print(product)"
   ]
  },
  {
   "cell_type": "code",
   "execution_count": 10,
   "metadata": {},
   "outputs": [
    {
     "name": "stdout",
     "output_type": "stream",
     "text": [
      "[[15]]\n"
     ]
    }
   ],
   "source": [
    "# 定义一个Session,启动默认图\n",
    "sess = tf.Session()\n",
    "# 调用Sess的run方法来执行op\n",
    "result = sess.run(product)\n",
    "print(result)\n",
    "sess.close() #注意关闭"
   ]
  },
  {
   "cell_type": "code",
   "execution_count": 12,
   "metadata": {},
   "outputs": [
    {
     "name": "stdout",
     "output_type": "stream",
     "text": [
      "[[15]]\n"
     ]
    }
   ],
   "source": [
    "with tf.Session() as sess:\n",
    "    result = sess.run(product)\n",
    "    print(result) #不用关闭 "
   ]
  },
  {
   "cell_type": "markdown",
   "metadata": {},
   "source": [
    "### 1.2 变量"
   ]
  },
  {
   "cell_type": "code",
   "execution_count": 16,
   "metadata": {},
   "outputs": [
    {
     "name": "stdout",
     "output_type": "stream",
     "text": [
      "[-2 -1]\n",
      "[-1  1]\n"
     ]
    }
   ],
   "source": [
    "x = tf.Variable([1,2])\n",
    "a = tf.constant([3,3])\n",
    "sub = tf.subtract(x,a)\n",
    "add = tf.add(x,sub)\n",
    "init = tf.global_variables_initializer() # 变量需要初始化\n",
    "with tf.Session() as sess:\n",
    "    sess.run(init)\n",
    "    print(sess.run(sub))\n",
    "    print(sess.run(add))"
   ]
  },
  {
   "cell_type": "code",
   "execution_count": 23,
   "metadata": {},
   "outputs": [
    {
     "name": "stdout",
     "output_type": "stream",
     "text": [
      "0\n",
      "1\n",
      "2\n",
      "3\n",
      "4\n",
      "5\n"
     ]
    }
   ],
   "source": [
    "state = tf.Variable(0,name = 'counter') #这里注意给变量命名\n",
    "new_value = tf.add(state,1)\n",
    "update = tf.assign(state,new_value)\n",
    "\n",
    "init = tf.global_variables_initializer()\n",
    "\n",
    "with tf.Session() as sess:\n",
    "    sess.run(init)\n",
    "    print(sess.run(state))\n",
    "    for _ in range(5):\n",
    "        sess.run(update)\n",
    "        print(sess.run(state))"
   ]
  },
  {
   "cell_type": "markdown",
   "metadata": {},
   "source": [
    "### 1.3 Fetch and Feed"
   ]
  },
  {
   "cell_type": "code",
   "execution_count": 27,
   "metadata": {},
   "outputs": [
    {
     "name": "stdout",
     "output_type": "stream",
     "text": [
      "[21.0, 7.0]\n"
     ]
    }
   ],
   "source": [
    "# fetch: 在会话里面同时执行多个OP\n",
    "input1 = tf.constant(3.0)\n",
    "input2 = tf.constant(2.0)\n",
    "input3 = tf.constant(5.0)\n",
    "add = tf.add(input2,input3)\n",
    "mul = tf.multiply(input1,add)\n",
    "\n",
    "with tf.Session() as sess:\n",
    "    result = sess.run([mul,add])\n",
    "    print(result)"
   ]
  },
  {
   "cell_type": "code",
   "execution_count": 29,
   "metadata": {},
   "outputs": [
    {
     "name": "stdout",
     "output_type": "stream",
     "text": [
      "[14.]\n"
     ]
    }
   ],
   "source": [
    "# Feed\n",
    "# 创建占位符\n",
    "input1 = tf.placeholder(tf.float32)\n",
    "input2 = tf.placeholder(tf.float32)\n",
    "output = tf.multiply(input1,input2)\n",
    "\n",
    "with tf.Session() as sess:\n",
    "    print(sess.run(output,feed_dict={input1:[7.],input2:[2.]}))"
   ]
  },
  {
   "cell_type": "markdown",
   "metadata": {},
   "source": [
    "### 1.4 Simple Example"
   ]
  },
  {
   "cell_type": "code",
   "execution_count": 30,
   "metadata": {},
   "outputs": [
    {
     "name": "stdout",
     "output_type": "stream",
     "text": [
      "0 [0.058603954, 0.10169245]\n",
      "20 [0.10687938, 0.19600686]\n",
      "40 [0.104038775, 0.19765572]\n",
      "60 [0.10237108, 0.19862372]\n",
      "80 [0.10139201, 0.19919202]\n",
      "100 [0.10081721, 0.19952565]\n",
      "120 [0.10047977, 0.19972152]\n",
      "140 [0.10028168, 0.19983649]\n",
      "160 [0.10016537, 0.19990402]\n",
      "180 [0.10009708, 0.19994365]\n",
      "200 [0.10005699, 0.19996692]\n"
     ]
    }
   ],
   "source": [
    "# 使用numpy生成100个随机的点\n",
    "x_data = np.random.rand(100)\n",
    "y_data = x_data * 0.1 + 0.2\n",
    "# 构造一个线性模型\n",
    "b = tf.Variable(0.)\n",
    "k = tf.Variable(0.)\n",
    "y = k * x_data + b\n",
    "# loss\n",
    "loss = tf.reduce_mean(tf.square(y_data-y))\n",
    "# 定义一个梯度下降的优化器\n",
    "optimizer = tf.train.GradientDescentOptimizer(0.2)\n",
    "# 最小化代价函数\n",
    "train = optimizer.minimize(loss)\n",
    "\n",
    "init = tf.global_variables_initializer()\n",
    "\n",
    "with tf.Session() as sess:\n",
    "    sess.run(init)\n",
    "    for step in range(201):\n",
    "        sess.run(train)\n",
    "        if step%20 == 0:\n",
    "            print(step, sess.run([k,b]))"
   ]
  },
  {
   "cell_type": "markdown",
   "metadata": {},
   "source": [
    "### non-Linear Regression"
   ]
  },
  {
   "cell_type": "code",
   "execution_count": 34,
   "metadata": {},
   "outputs": [
    {
     "data": {
      "image/png": "[encoded data removed]",
      "text/plain": [
       "<matplotlib.figure.Figure at 0x1c28ea7358>"
      ]
     },
     "metadata": {},
     "output_type": "display_data"
    }
   ],
   "source": [
    "import matplotlib.pyplot as plt\n",
    "# 使用Numpy生成200个随机点\n",
    "x_data = np.linspace(-0.5,0.5,200)[:,np.newaxis]\n",
    "noise = np.random.normal(0,0.02,x_data.shape)\n",
    "y_data = np.square(x_data)+noise\n",
    "# 定义两个placeholder\n",
    "x=tf.placeholder(tf.float32,[None,1])\n",
    "y=tf.placeholder(tf.float32,[None,1])\n",
    "\n",
    "#定义神经网络中间层\n",
    "Weights_L1 = tf.Variable(tf.random_normal([1,10]))\n",
    "biases_L1 = tf.Variable(tf.zeros([1,10]))\n",
    "Wx_plus_b_L1 = tf.matmul(x,Weights_L1) + biases_L1\n",
    "L1 = tf.nn.tanh(Wx_plus_b_L1)\n",
    "#定义输出层\n",
    "Weights_L2 = tf.Variable(tf.random_normal([10,1]))\n",
    "biases_L2 = tf.Variable(tf.zeros([1,1]))\n",
    "Wx_plus_b_L2 = tf.matmul(L1,Weights_L2) + biases_L2\n",
    "prediction = tf.nn.tanh(Wx_plus_b_L2)\n",
    "\n",
    "#\n",
    "loss = tf.reduce_mean(tf.square(y-prediction))\n",
    "\n",
    "train_step = tf.train.GradientDescentOptimizer(0.1).minimize(loss)\n",
    "\n",
    "with tf.Session() as sess:\n",
    "    sess.run(tf.global_variables_initializer())\n",
    "    for _ in range(2000):\n",
    "        sess.run(train_step,feed_dict={x:x_data,y:y_data})\n",
    "    \n",
    "    #获得预测值\n",
    "    prediction_values = sess.run(prediction, feed_dict={x:x_data})\n",
    "    \n",
    "    # 画图\n",
    "    plt.figure()\n",
    "    plt.scatter(x_data,y_data)\n",
    "    plt.plot(x_data,prediction_values,'r-',lw=5)\n",
    "    plt.show()\n",
    "        \n",
    "        \n"
   ]
  },
  {
   "cell_type": "markdown",
   "metadata": {},
   "source": [
    "### MNIST手写数字识别 简单版本\n"
   ]
  },
  {
   "cell_type": "code",
   "execution_count": 48,
   "metadata": {},
   "outputs": [
    {
     "name": "stdout",
     "output_type": "stream",
     "text": [
      "Iter 0testing acc: 0.8323\n",
      "Iter 1testing acc: 0.8703\n",
      "Iter 2testing acc: 0.8811\n",
      "Iter 3testing acc: 0.8881\n",
      "Iter 4testing acc: 0.8941\n",
      "Iter 5testing acc: 0.8968\n",
      "Iter 6testing acc: 0.9002\n",
      "Iter 7testing acc: 0.9018\n",
      "Iter 8testing acc: 0.9037\n",
      "Iter 9testing acc: 0.9052\n",
      "Iter 10testing acc: 0.9063\n",
      "Iter 11testing acc: 0.9069\n",
      "Iter 12testing acc: 0.9084\n",
      "Iter 13testing acc: 0.9085\n",
      "Iter 14testing acc: 0.91\n",
      "Iter 15testing acc: 0.9109\n",
      "Iter 16testing acc: 0.9118\n",
      "Iter 17testing acc: 0.912\n",
      "Iter 18testing acc: 0.9135\n",
      "Iter 19testing acc: 0.9132\n",
      "Iter 20testing acc: 0.9141\n"
     ]
    }
   ],
   "source": [
    "#每个批次的大小\n",
    "batch_size = 100\n",
    "#计算一定有多少个批次\n",
    "n_batch = mnist.train.num_examples // batch_size\n",
    "# 定义两个placeholder\n",
    "x = tf.placeholder(tf.float32,[None,784])\n",
    "y = tf.placeholder(tf.float32,[None,10])\n",
    "\n",
    "weights = tf.Variable(tf.zeros([784,10]))\n",
    "bias = tf.Variable(tf.zeros([10]))\n",
    "\n",
    "prediction = tf.nn.softmax(tf.matmul(x,weights)+bias)\n",
    "\n",
    "loss = tf.reduce_mean(tf.square(y-prediction))\n",
    "\n",
    "train_step = tf.train.GradientDescentOptimizer(0.2).minimize(loss)\n",
    "init = tf.global_variables_initializer()\n",
    "\n",
    "#准确率\n",
    "correct_prediction = tf.equal(tf.argmax(y,1),tf.argmax(prediction,1))\n",
    "accuracy = tf.reduce_mean(tf.cast(correct_prediction, tf.float32)) # cast转换类型\n",
    "\n",
    "with tf.Session() as sess:\n",
    "    sess.run(init)\n",
    "    for epoch in range(21):\n",
    "        for batch in range(n_batch):\n",
    "            batch_xs,batch_ys = mnist.train.next_batch(batch_size)\n",
    "            sess.run(train_step,feed_dict={x:batch_xs,y:batch_ys})\n",
    "        acc = sess.run(accuracy,feed_dict={x:mnist.test.images,y:mnist.test.labels})\n",
    "        print('Iter '+ str(epoch)+\"testing acc: \" + str(acc))\n",
    "    \n",
    "\n"
   ]
  },
  {
   "cell_type": "code",
   "execution_count": 43,
   "metadata": {},
   "outputs": [],
   "source": [
    "batch_xs,batch_ys = mnist.train.next_batch()"
   ]
  },
  {
   "cell_type": "code",
   "execution_count": 46,
   "metadata": {},
   "outputs": [
    {
     "data": {
      "text/plain": [
       "(55000,)"
      ]
     },
     "execution_count": 46,
     "metadata": {},
     "output_type": "execute_result"
    }
   ],
   "source": [
    "mnist.train.labels.shape"
   ]
  },
  {
   "cell_type": "code",
   "execution_count": 4,
   "metadata": {},
   "outputs": [
    {
     "name": "stdout",
     "output_type": "stream",
     "text": [
      "Iter 0testing acc: 0.8241\n",
      "Iter 1testing acc: 0.8912\n",
      "Iter 2testing acc: 0.9012\n",
      "Iter 3testing acc: 0.906\n",
      "Iter 4testing acc: 0.9084\n",
      "Iter 5testing acc: 0.9098\n",
      "Iter 6testing acc: 0.9118\n",
      "Iter 7testing acc: 0.9138\n",
      "Iter 8testing acc: 0.9139\n",
      "Iter 9testing acc: 0.9161\n",
      "Iter 10testing acc: 0.9158\n",
      "Iter 11testing acc: 0.9181\n",
      "Iter 12testing acc: 0.9182\n",
      "Iter 13testing acc: 0.9186\n",
      "Iter 14testing acc: 0.9192\n",
      "Iter 15testing acc: 0.919\n",
      "Iter 16testing acc: 0.9207\n",
      "Iter 17testing acc: 0.9211\n",
      "Iter 18testing acc: 0.9217\n",
      "Iter 19testing acc: 0.921\n",
      "Iter 20testing acc: 0.9215\n"
     ]
    }
   ],
   "source": [
    "### 这里loss function改用交叉熵\n",
    "\n",
    "#每个批次的大小\n",
    "batch_size = 100\n",
    "#计算一定有多少个批次\n",
    "n_batch = mnist.train.num_examples // batch_size\n",
    "# 定义两个placeholder\n",
    "x = tf.placeholder(tf.float32,[None,784])\n",
    "y = tf.placeholder(tf.float32,[None,10])\n",
    "\n",
    "weights = tf.Variable(tf.zeros([784,10]))\n",
    "bias = tf.Variable(tf.zeros([10]))\n",
    "\n",
    "prediction = tf.nn.softmax(tf.matmul(x,weights)+bias)\n",
    "\n",
    "# loss function改用 cross entropy\n",
    "#loss = tf.reduce_mean(tf.square(y-prediction))\n",
    "loss = tf.reduce_mean(tf.nn.softmax_cross_entropy_with_logits(labels = y,logits = prediction))\n",
    "\n",
    "train_step = tf.train.GradientDescentOptimizer(0.2).minimize(loss)\n",
    "init = tf.global_variables_initializer()\n",
    "\n",
    "#准确率\n",
    "correct_prediction = tf.equal(tf.argmax(y,1),tf.argmax(prediction,1))\n",
    "accuracy = tf.reduce_mean(tf.cast(correct_prediction, tf.float32)) # cast转换类型\n",
    "\n",
    "with tf.Session() as sess:\n",
    "    sess.run(init)\n",
    "    for epoch in range(21):\n",
    "        for batch in range(n_batch):\n",
    "            batch_xs,batch_ys = mnist.train.next_batch(batch_size)\n",
    "            sess.run(train_step,feed_dict={x:batch_xs,y:batch_ys})\n",
    "        acc = sess.run(accuracy,feed_dict={x:mnist.test.images,y:mnist.test.labels})\n",
    "        print('Iter '+ str(epoch)+\"testing acc: \" + str(acc))\n",
    "    \n",
    "\n"
   ]
  },
  {
   "cell_type": "code",
   "execution_count": 8,
   "metadata": {},
   "outputs": [
    {
     "name": "stdout",
     "output_type": "stream",
     "text": [
      "Iter 0 training acc: 0.9516364\n",
      "Iter 0 testing acc: 0.9472\n",
      "Iter 1 training acc: 0.96607274\n",
      "Iter 1 testing acc: 0.957\n",
      "Iter 2 training acc: 0.9753636\n",
      "Iter 2 testing acc: 0.9623\n",
      "Iter 3 training acc: 0.9801818\n",
      "Iter 3 testing acc: 0.9646\n",
      "Iter 4 training acc: 0.9838\n",
      "Iter 4 testing acc: 0.9666\n",
      "Iter 5 training acc: 0.9858\n",
      "Iter 5 testing acc: 0.9683\n",
      "Iter 6 training acc: 0.9874182\n",
      "Iter 6 testing acc: 0.9699\n",
      "Iter 7 training acc: 0.98865455\n",
      "Iter 7 testing acc: 0.97\n",
      "Iter 8 training acc: 0.98954546\n",
      "Iter 8 testing acc: 0.9709\n",
      "Iter 9 training acc: 0.99038184\n",
      "Iter 9 testing acc: 0.972\n",
      "Iter 10 training acc: 0.9910727\n",
      "Iter 10 testing acc: 0.9722\n",
      "Iter 11 training acc: 0.9917455\n",
      "Iter 11 testing acc: 0.9716\n",
      "Iter 12 training acc: 0.9922364\n",
      "Iter 12 testing acc: 0.9721\n",
      "Iter 13 training acc: 0.9924909\n",
      "Iter 13 testing acc: 0.9725\n",
      "Iter 14 training acc: 0.9927091\n",
      "Iter 14 testing acc: 0.9733\n",
      "Iter 15 training acc: 0.9930182\n",
      "Iter 15 testing acc: 0.9733\n",
      "Iter 16 training acc: 0.9932\n",
      "Iter 16 testing acc: 0.9733\n",
      "Iter 17 training acc: 0.99343634\n",
      "Iter 17 testing acc: 0.9742\n",
      "Iter 18 training acc: 0.9936\n",
      "Iter 18 testing acc: 0.9737\n",
      "Iter 19 training acc: 0.99374545\n",
      "Iter 19 testing acc: 0.974\n",
      "Iter 20 training acc: 0.99383634\n",
      "Iter 20 testing acc: 0.9747\n",
      "Iter 21 training acc: 0.9940182\n",
      "Iter 21 testing acc: 0.9749\n",
      "Iter 22 training acc: 0.9940909\n",
      "Iter 22 testing acc: 0.9742\n",
      "Iter 23 training acc: 0.99414545\n",
      "Iter 23 testing acc: 0.9746\n",
      "Iter 24 training acc: 0.9942727\n",
      "Iter 24 testing acc: 0.9749\n",
      "Iter 25 training acc: 0.9943454\n",
      "Iter 25 testing acc: 0.9749\n",
      "Iter 26 training acc: 0.9944364\n",
      "Iter 26 testing acc: 0.9752\n",
      "Iter 27 training acc: 0.9945091\n",
      "Iter 27 testing acc: 0.9751\n",
      "Iter 28 training acc: 0.9946182\n",
      "Iter 28 testing acc: 0.9755\n",
      "Iter 29 training acc: 0.9946727\n",
      "Iter 29 testing acc: 0.9756\n",
      "Iter 30 training acc: 0.99472725\n",
      "Iter 30 testing acc: 0.9755\n"
     ]
    }
   ],
   "source": [
    "### 这里应用dropout防止过拟合和增加一个中间层\n",
    "\n",
    "#每个批次的大小\n",
    "batch_size = 100\n",
    "#计算一定有多少个批次\n",
    "n_batch = mnist.train.num_examples // batch_size\n",
    "# 定义两个placeholder\n",
    "x = tf.placeholder(tf.float32,[None,784])\n",
    "y = tf.placeholder(tf.float32,[None,10])\n",
    "keep_prob = tf.placeholder(tf.float32)\n",
    "\n",
    "weights1 = tf.Variable(tf.truncated_normal([784,1000],stddev=0.1))#我们之前初始化都采用0初始化，这里改用其他更好的方式\n",
    "bias1 = tf.Variable(tf.zeros([1000])+0.1) #这里初始化增加了0.1\n",
    "L1 = tf.nn.tanh(tf.matmul(x,weights1)+bias1)\n",
    "L1_dropout = tf.nn.dropout(L1,keep_prob)\n",
    "\n",
    "\n",
    "weights2 = tf.Variable(tf.truncated_normal([1000,1000],stddev=0.1))\n",
    "bias2 = tf.Variable(tf.zeros([1000])+0.1) \n",
    "L2 = tf.nn.tanh(tf.matmul(L1_dropout,weights2)+bias2)\n",
    "L2_dropout = tf.nn.dropout(L2,keep_prob)\n",
    "\n",
    "weights3 = tf.Variable(tf.truncated_normal([1000,500],stddev=0.1))\n",
    "bias3 = tf.Variable(tf.zeros([500])+0.1) \n",
    "L3 = tf.nn.tanh(tf.matmul(L2_dropout,weights3)+bias3)\n",
    "L3_dropout = tf.nn.dropout(L3,keep_prob)\n",
    "\n",
    "weights4 = tf.Variable(tf.truncated_normal([500,10],stddev=0.1))\n",
    "bias4 = tf.Variable(tf.zeros([10])+0.1)\n",
    "\n",
    "prediction = tf.nn.softmax(tf.matmul(L3_dropout,weights4)+bias4)\n",
    "# loss function改用 cross entropy\n",
    "#loss = tf.reduce_mean(tf.square(y-prediction))\n",
    "loss = tf.reduce_mean(tf.nn.softmax_cross_entropy_with_logits(labels = y,logits = prediction))\n",
    "\n",
    "train_step = tf.train.GradientDescentOptimizer(0.2).minimize(loss)\n",
    "init = tf.global_variables_initializer()\n",
    "\n",
    "#准确率\n",
    "correct_prediction = tf.equal(tf.argmax(y,1),tf.argmax(prediction,1))\n",
    "accuracy = tf.reduce_mean(tf.cast(correct_prediction, tf.float32)) # cast转换类型\n",
    "\n",
    "with tf.Session() as sess:\n",
    "    sess.run(init)\n",
    "    for epoch in range(31):\n",
    "        for batch in range(n_batch):\n",
    "            batch_xs,batch_ys = mnist.train.next_batch(batch_size)\n",
    "            sess.run(train_step,feed_dict={x:batch_xs,y:batch_ys,keep_prob:1.0})\n",
    "        test_acc = sess.run(accuracy,feed_dict={x:mnist.test.images,y:mnist.test.labels,keep_prob:1.0})\n",
    "        train_acc = sess.run(accuracy,feed_dict={x:mnist.train.images,y:mnist.train.labels,keep_prob:1.0})\n",
    "        print('Iter '+ str(epoch)+\" training acc: \" + str(train_acc))\n",
    "        print('Iter '+ str(epoch)+\" testing acc: \" + str(test_acc))\n",
    "    "
   ]
  },
  {
   "cell_type": "code",
   "execution_count": 7,
   "metadata": {},
   "outputs": [
    {
     "name": "stdout",
     "output_type": "stream",
     "text": [
      "Iter 0 training acc: 0.92225456\n",
      "Iter 0 testing acc: 0.9256\n",
      "Iter 1 training acc: 0.9389455\n",
      "Iter 1 testing acc: 0.9395\n",
      "Iter 2 training acc: 0.9481636\n",
      "Iter 2 testing acc: 0.9454\n",
      "Iter 3 training acc: 0.9527636\n",
      "Iter 3 testing acc: 0.9494\n",
      "Iter 4 training acc: 0.95785457\n",
      "Iter 4 testing acc: 0.9521\n",
      "Iter 5 training acc: 0.9611273\n",
      "Iter 5 testing acc: 0.9562\n",
      "Iter 6 training acc: 0.96416366\n",
      "Iter 6 testing acc: 0.9588\n",
      "Iter 7 training acc: 0.96645457\n",
      "Iter 7 testing acc: 0.9594\n",
      "Iter 8 training acc: 0.96892726\n",
      "Iter 8 testing acc: 0.964\n",
      "Iter 9 training acc: 0.9705273\n",
      "Iter 9 testing acc: 0.9642\n",
      "Iter 10 training acc: 0.9728182\n",
      "Iter 10 testing acc: 0.9645\n",
      "Iter 11 training acc: 0.97343636\n",
      "Iter 11 testing acc: 0.9649\n",
      "Iter 12 training acc: 0.97467273\n",
      "Iter 12 testing acc: 0.9664\n",
      "Iter 13 training acc: 0.97565454\n",
      "Iter 13 testing acc: 0.9679\n",
      "Iter 14 training acc: 0.97778183\n",
      "Iter 14 testing acc: 0.9694\n",
      "Iter 15 training acc: 0.9782364\n",
      "Iter 15 testing acc: 0.969\n",
      "Iter 16 training acc: 0.97965455\n",
      "Iter 16 testing acc: 0.9707\n",
      "Iter 17 training acc: 0.9798545\n",
      "Iter 17 testing acc: 0.9712\n",
      "Iter 18 training acc: 0.9803636\n",
      "Iter 18 testing acc: 0.9719\n",
      "Iter 19 training acc: 0.9815091\n",
      "Iter 19 testing acc: 0.9714\n",
      "Iter 20 training acc: 0.98227274\n",
      "Iter 20 testing acc: 0.9725\n",
      "Iter 21 training acc: 0.9831273\n",
      "Iter 21 testing acc: 0.9733\n",
      "Iter 22 training acc: 0.98327273\n",
      "Iter 22 testing acc: 0.9732\n",
      "Iter 23 training acc: 0.9841091\n",
      "Iter 23 testing acc: 0.9739\n",
      "Iter 24 training acc: 0.98454547\n",
      "Iter 24 testing acc: 0.974\n",
      "Iter 25 training acc: 0.98532724\n",
      "Iter 25 testing acc: 0.9744\n",
      "Iter 26 training acc: 0.9859091\n",
      "Iter 26 testing acc: 0.975\n",
      "Iter 27 training acc: 0.9861818\n",
      "Iter 27 testing acc: 0.9752\n",
      "Iter 28 training acc: 0.9862\n",
      "Iter 28 testing acc: 0.9751\n",
      "Iter 29 training acc: 0.9865818\n",
      "Iter 29 testing acc: 0.9752\n",
      "Iter 30 training acc: 0.98710907\n",
      "Iter 30 testing acc: 0.9762\n"
     ]
    }
   ],
   "source": [
    "### 上面出现了过拟合，下面用dropout来防止过拟合\n",
    "\n",
    "#每个批次的大小\n",
    "batch_size = 100\n",
    "#计算一定有多少个批次\n",
    "n_batch = mnist.train.num_examples // batch_size\n",
    "# 定义两个placeholder\n",
    "x = tf.placeholder(tf.float32,[None,784])\n",
    "y = tf.placeholder(tf.float32,[None,10])\n",
    "keep_prob = tf.placeholder(tf.float32)\n",
    "\n",
    "weights1 = tf.Variable(tf.truncated_normal([784,1000],stddev=0.1))#我们之前初始化都采用0初始化，这里改用其他更好的方式\n",
    "bias1 = tf.Variable(tf.zeros([1000])+0.1) #这里初始化增加了0.1\n",
    "L1 = tf.nn.tanh(tf.matmul(x,weights1)+bias1)\n",
    "L1_dropout = tf.nn.dropout(L1,keep_prob)\n",
    "\n",
    "\n",
    "weights2 = tf.Variable(tf.truncated_normal([1000,1000],stddev=0.1))\n",
    "bias2 = tf.Variable(tf.zeros([1000])+0.1) \n",
    "L2 = tf.nn.tanh(tf.matmul(L1_dropout,weights2)+bias2)\n",
    "L2_dropout = tf.nn.dropout(L2,keep_prob)\n",
    "\n",
    "weights3 = tf.Variable(tf.truncated_normal([1000,500],stddev=0.1))\n",
    "bias3 = tf.Variable(tf.zeros([500])+0.1) \n",
    "L3 = tf.nn.tanh(tf.matmul(L2_dropout,weights3)+bias3)\n",
    "L3_dropout = tf.nn.dropout(L3,keep_prob)\n",
    "\n",
    "weights4 = tf.Variable(tf.truncated_normal([500,10],stddev=0.1))\n",
    "bias4 = tf.Variable(tf.zeros([10])+0.1)\n",
    "\n",
    "prediction = tf.nn.softmax(tf.matmul(L3_dropout,weights4)+bias4)\n",
    "# loss function改用 cross entropy\n",
    "#loss = tf.reduce_mean(tf.square(y-prediction))\n",
    "loss = tf.reduce_mean(tf.nn.softmax_cross_entropy_with_logits(labels = y,logits = prediction))\n",
    "\n",
    "train_step = tf.train.GradientDescentOptimizer(0.2).minimize(loss)\n",
    "init = tf.global_variables_initializer()\n",
    "\n",
    "#准确率\n",
    "correct_prediction = tf.equal(tf.argmax(y,1),tf.argmax(prediction,1))\n",
    "accuracy = tf.reduce_mean(tf.cast(correct_prediction, tf.float32)) # cast转换类型\n",
    "\n",
    "with tf.Session() as sess:\n",
    "    sess.run(init)\n",
    "    for epoch in range(31):\n",
    "        for batch in range(n_batch):\n",
    "            batch_xs,batch_ys = mnist.train.next_batch(batch_size)\n",
    "            sess.run(train_step,feed_dict={x:batch_xs,y:batch_ys,keep_prob:0.8})\n",
    "        test_acc = sess.run(accuracy,feed_dict={x:mnist.test.images,y:mnist.test.labels,keep_prob:1.0})\n",
    "        train_acc = sess.run(accuracy,feed_dict={x:mnist.train.images,y:mnist.train.labels,keep_prob:1.0})\n",
    "        print('Iter '+ str(epoch)+\" training acc: \" + str(train_acc))\n",
    "        print('Iter '+ str(epoch)+\" testing acc: \" + str(test_acc))\n",
    "    "
   ]
  },
  {
   "cell_type": "markdown",
   "metadata": {},
   "source": [
    "### 优化器测试"
   ]
  },
  {
   "cell_type": "code",
   "execution_count": 12,
   "metadata": {},
   "outputs": [
    {
     "name": "stdout",
     "output_type": "stream",
     "text": [
      "Iter 0 training acc: 0.91972727\n",
      "Iter 0 testing acc: 0.9228\n",
      "Iter 1 training acc: 0.9392727\n",
      "Iter 1 testing acc: 0.9378\n",
      "Iter 2 training acc: 0.94885457\n",
      "Iter 2 testing acc: 0.9471\n",
      "Iter 3 training acc: 0.9556909\n",
      "Iter 3 testing acc: 0.9517\n",
      "Iter 4 training acc: 0.96134543\n",
      "Iter 4 testing acc: 0.9554\n",
      "Iter 5 training acc: 0.96385455\n",
      "Iter 5 testing acc: 0.96\n",
      "Iter 6 training acc: 0.96770906\n",
      "Iter 6 testing acc: 0.9626\n",
      "Iter 7 training acc: 0.97056365\n",
      "Iter 7 testing acc: 0.9625\n",
      "Iter 8 training acc: 0.974\n",
      "Iter 8 testing acc: 0.9667\n",
      "Iter 9 training acc: 0.9758\n",
      "Iter 9 testing acc: 0.967\n",
      "Iter 10 training acc: 0.9778909\n",
      "Iter 10 testing acc: 0.9683\n",
      "Iter 11 training acc: 0.9789091\n",
      "Iter 11 testing acc: 0.9703\n",
      "Iter 12 training acc: 0.9805091\n",
      "Iter 12 testing acc: 0.972\n",
      "Iter 13 training acc: 0.98194546\n",
      "Iter 13 testing acc: 0.9714\n",
      "Iter 14 training acc: 0.9824182\n",
      "Iter 14 testing acc: 0.9718\n",
      "Iter 15 training acc: 0.98407274\n",
      "Iter 15 testing acc: 0.973\n",
      "Iter 16 training acc: 0.9847091\n",
      "Iter 16 testing acc: 0.974\n",
      "Iter 17 training acc: 0.98572725\n",
      "Iter 17 testing acc: 0.9745\n",
      "Iter 18 training acc: 0.9864909\n",
      "Iter 18 testing acc: 0.9748\n",
      "Iter 19 training acc: 0.98725456\n",
      "Iter 19 testing acc: 0.9754\n",
      "Iter 20 training acc: 0.9878182\n",
      "Iter 20 testing acc: 0.976\n",
      "Iter 21 training acc: 0.9885091\n",
      "Iter 21 testing acc: 0.9764\n",
      "Iter 22 training acc: 0.9883091\n",
      "Iter 22 testing acc: 0.9766\n",
      "Iter 23 training acc: 0.98932725\n",
      "Iter 23 testing acc: 0.9765\n",
      "Iter 24 training acc: 0.98987275\n",
      "Iter 24 testing acc: 0.9778\n",
      "Iter 25 training acc: 0.9899273\n",
      "Iter 25 testing acc: 0.9778\n",
      "Iter 26 training acc: 0.9903273\n",
      "Iter 26 testing acc: 0.9787\n",
      "Iter 27 training acc: 0.9910182\n",
      "Iter 27 testing acc: 0.9774\n",
      "Iter 28 training acc: 0.9912182\n",
      "Iter 28 testing acc: 0.9779\n",
      "Iter 29 training acc: 0.99167275\n",
      "Iter 29 testing acc: 0.9794\n",
      "Iter 30 training acc: 0.9918182\n",
      "Iter 30 testing acc: 0.979\n"
     ]
    }
   ],
   "source": [
    "### 上面出现了过拟合，下面用dropout来防止过拟合\n",
    "\n",
    "#每个批次的大小\n",
    "batch_size = 100\n",
    "#计算一定有多少个批次\n",
    "n_batch = mnist.train.num_examples // batch_size\n",
    "# 定义两个placeholder\n",
    "x = tf.placeholder(tf.float32,[None,784])\n",
    "y = tf.placeholder(tf.float32,[None,10])\n",
    "keep_prob = tf.placeholder(tf.float32)\n",
    "\n",
    "weights1 = tf.Variable(tf.truncated_normal([784,1000],stddev=0.1))#我们之前初始化都采用0初始化，这里改用其他更好的方式\n",
    "bias1 = tf.Variable(tf.zeros([1000])+0.1) #这里初始化增加了0.1\n",
    "L1 = tf.nn.tanh(tf.matmul(x,weights1)+bias1)\n",
    "L1_dropout = tf.nn.dropout(L1,keep_prob)\n",
    "\n",
    "\n",
    "weights2 = tf.Variable(tf.truncated_normal([1000,1000],stddev=0.1))\n",
    "bias2 = tf.Variable(tf.zeros([1000])+0.1) \n",
    "L2 = tf.nn.tanh(tf.matmul(L1_dropout,weights2)+bias2)\n",
    "L2_dropout = tf.nn.dropout(L2,keep_prob)\n",
    "\n",
    "weights3 = tf.Variable(tf.truncated_normal([1000,500],stddev=0.1))\n",
    "bias3 = tf.Variable(tf.zeros([500])+0.1) \n",
    "L3 = tf.nn.tanh(tf.matmul(L2_dropout,weights3)+bias3)\n",
    "L3_dropout = tf.nn.dropout(L3,keep_prob)\n",
    "\n",
    "weights4 = tf.Variable(tf.truncated_normal([500,10],stddev=0.1))\n",
    "bias4 = tf.Variable(tf.zeros([10])+0.1)\n",
    "\n",
    "prediction = tf.nn.softmax(tf.matmul(L3_dropout,weights4)+bias4)\n",
    "# loss function改用 cross entropy\n",
    "#loss = tf.reduce_mean(tf.square(y-prediction))\n",
    "loss = tf.reduce_mean(tf.nn.softmax_cross_entropy_with_logits(labels = y,logits = prediction))\n",
    "# 这里换AdamOptimizer\n",
    "train_step = tf.train.AdamOptimizer(1e-4).minimize(loss)\n",
    "init = tf.global_variables_initializer()\n",
    "\n",
    "#准确率\n",
    "correct_prediction = tf.equal(tf.argmax(y,1),tf.argmax(prediction,1))\n",
    "accuracy = tf.reduce_mean(tf.cast(correct_prediction, tf.float32)) # cast转换类型\n",
    "\n",
    "with tf.Session() as sess:\n",
    "    sess.run(init)\n",
    "    for epoch in range(31):\n",
    "        for batch in range(n_batch):\n",
    "            batch_xs,batch_ys = mnist.train.next_batch(batch_size)\n",
    "            sess.run(train_step,feed_dict={x:batch_xs,y:batch_ys,keep_prob:0.8})\n",
    "        test_acc = sess.run(accuracy,feed_dict={x:mnist.test.images,y:mnist.test.labels,keep_prob:1.0})\n",
    "        train_acc = sess.run(accuracy,feed_dict={x:mnist.train.images,y:mnist.train.labels,keep_prob:1.0})\n",
    "        print('Iter '+ str(epoch)+\" training acc: \" + str(train_acc))\n",
    "        print('Iter '+ str(epoch)+\" testing acc: \" + str(test_acc))\n",
    "    "
   ]
  },
  {
   "cell_type": "code",
   "execution_count": null,
   "metadata": {},
   "outputs": [],
   "source": []
  }
 ],
 "metadata": {
  "kernelspec": {
   "display_name": "Python 3",
   "language": "python",
   "name": "python3"
  },
  "language_info": {
   "codemirror_mode": {
    "name": "ipython",
    "version": 3
   },
   "file_extension": ".py",
   "mimetype": "text/x-python",
   "name": "python",
   "nbconvert_exporter": "python",
   "pygments_lexer": "ipython3",
   "version": "3.6.4"
  }
 },
 "nbformat": 4,
 "nbformat_minor": 2
}
